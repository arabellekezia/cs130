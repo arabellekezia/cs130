{
 "cells": [
  {
   "cell_type": "code",
   "execution_count": 39,
   "metadata": {},
   "outputs": [],
   "source": [
    "import requests\n",
    "from difflib import SequenceMatcher\n",
    "\n",
    "def get_similar(a, b):\n",
    "    return SequenceMatcher(None, a, b).ratio()\n",
    "\n",
    "def get_food_information(query, upc=False):\n",
    "\n",
    "    # API URL\n",
    "    url = \"https://edamam-food-and-grocery-database.p.rapidapi.com/parser\"\n",
    "    \n",
    "    # Check UPC code or Ingredient\n",
    "    # UPC are barcodes and Ingredients are all other foods.\n",
    "    if upc:\n",
    "        query_key = \"upc\"\n",
    "    else:\n",
    "        query_key = \"ingr\"\n",
    "    querystring = {query_key:query}\n",
    "\n",
    "    key = \"de414b4bedmsh907dea7bd3b009dp13afd1jsnee0e8e17539c\"\n",
    "    host = \"edamam-food-and-grocery-database.p.rapidapi.com\"\n",
    "\n",
    "    headers = {\n",
    "        'x-rapidapi-host': host,\n",
    "        'x-rapidapi-key': key\n",
    "        }\n",
    "    \n",
    "    # Get response from request\n",
    "    response = requests.request(\"GET\", url, headers=headers, params=querystring)\n",
    "\n",
    "#     print(response.json())\n",
    "    return response.json()\n",
    "\n",
    "def get_nutrient_information(query, upc=False):\n",
    "    \n",
    "    food_json = get_food_information(query, upc)\n",
    "    \n",
    "    # food_label: Returns the food label from the API. \n",
    "    #             Useful when we want to show the top\n",
    "    #             2 food items for that nutrient.\n",
    "    \n",
    "    # nutrient_dict: Returns the nutrient dictionary.\n",
    "    #                Keys: ENERC_KCAL(calories in kcal)\n",
    "    #                      PROCNT (protiens in g)\n",
    "    #                      FAT (fats in g)\n",
    "    #                      CHOCDF (carbohydrates in g)\n",
    "    #                      FIBTF (fibres in g)\n",
    "    \n",
    "    # success: returns when we are able to find the \n",
    "    #          product in the API or else ask the\n",
    "    #          user to enter manually.\n",
    "    \n",
    "    food_label = None\n",
    "    nutrients_dict = None\n",
    "    success = False\n",
    "    \n",
    "    curr_similarity = 0\n",
    "    most_similar_id = 0\n",
    "    \n",
    "    # Checks if the food item is actually present in the API\n",
    "    # otherwise let success be false.\n",
    "    if \"error\" not in food_json.keys() and len(food_json['hints']) > 0:\n",
    "        # Hope that the first entry in the json file\n",
    "        # is the top match from the API.\n",
    "        \n",
    "        # Loops over all the searches and the find the one which\n",
    "        # has the closest label, using the metric define above.\n",
    "        for i,f in enumerate(food_json['hints']):\n",
    "            similarity = get_similar(query, f['food']['label'])\n",
    "            if similarity > curr_similarity:\n",
    "                most_similar_id = i\n",
    "                curr_similarity = similarity\n",
    "                \n",
    "        top_matched_item_info = food_json['hints'][most_similar_id]['food']\n",
    "        food_label = top_matched_item_info['label']\n",
    "        nutrients_dict = top_matched_item_info['nutrients']\n",
    "        success = True\n",
    "    \n",
    "    return food_label, nutrients_dict, success"
   ]
  },
  {
   "cell_type": "code",
   "execution_count": 40,
   "metadata": {},
   "outputs": [],
   "source": [
    "def print_food_info(label, nutrients, success):\n",
    "    print(f\"Label: {label}\")\n",
    "    print(f\"Nutrients: {nutrients}\")\n",
    "    print(f\"Success: {success}\")"
   ]
  },
  {
   "cell_type": "code",
   "execution_count": 42,
   "metadata": {},
   "outputs": [
    {
     "name": "stdout",
     "output_type": "stream",
     "text": [
      "Label: apple\n",
      "Nutrients: {'ENERC_KCAL': 52.0, 'PROCNT': 0.26, 'FAT': 0.17, 'CHOCDF': 13.81, 'FIBTG': 2.4}\n",
      "Success: True\n"
     ]
    }
   ],
   "source": [
    "query = 'apple'\n",
    "upc = False\n",
    "label, nutrients, success = get_nutrient_information(query, upc)\n",
    "print_food_info(label, nutrients, success)"
   ]
  },
  {
   "cell_type": "code",
   "execution_count": 43,
   "metadata": {},
   "outputs": [
    {
     "name": "stdout",
     "output_type": "stream",
     "text": [
      "Label: None\n",
      "Nutrients: None\n",
      "Success: False\n"
     ]
    }
   ],
   "source": [
    "query = 'qwerty'\n",
    "upc = False\n",
    "label, nutrients, success = get_nutrient_information(query, upc)\n",
    "print_food_info(label, nutrients, success)"
   ]
  },
  {
   "cell_type": "code",
   "execution_count": 41,
   "metadata": {},
   "outputs": [
    {
     "name": "stdout",
     "output_type": "stream",
     "text": [
      "Label: Orange Carrot Karma Smoothie, 22 fl oz\n",
      "Nutrients: {'ENERC_KCAL': 41.499027861352765, 'PROCNT': 0.6148004127607817, 'FAT': 0.15370010319019542, 'CHOCDF': 10.144206810552898, 'FIBTG': 0.6148004127607817}\n",
      "Success: True\n"
     ]
    }
   ],
   "source": [
    "query = 'jamba juice orange carrot karma smoothie, 22 fl oz'\n",
    "upc = False\n",
    "label, nutrients, success = get_nutrient_information(query, upc)\n",
    "print_food_info(label, nutrients, success)"
   ]
  }
 ],
 "metadata": {
  "kernelspec": {
   "display_name": "Python 3",
   "language": "python",
   "name": "python3"
  },
  "language_info": {
   "codemirror_mode": {
    "name": "ipython",
    "version": 3
   },
   "file_extension": ".py",
   "mimetype": "text/x-python",
   "name": "python",
   "nbconvert_exporter": "python",
   "pygments_lexer": "ipython3",
   "version": "3.7.9"
  }
 },
 "nbformat": 4,
 "nbformat_minor": 4
}
