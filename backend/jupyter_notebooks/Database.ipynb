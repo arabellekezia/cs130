{
 "cells": [
  {
   "cell_type": "code",
   "execution_count": 1,
   "metadata": {},
   "outputs": [],
   "source": [
    "import mysql.connector as mysql\n",
    "\n",
    "class Database:\n",
    "    def __init__(self, host, user, passwd):\n",
    "        self.__host = host\n",
    "        self.__user = user\n",
    "        self.__passwd = passwd\n",
    "        self.__MySQL = self.__connect_MySQL()\n",
    "        self.__database = None\n",
    "    \n",
    "    def __connect_MySQL(self):\n",
    "        db = mysql.connect(host=self.__host, \\\n",
    "                           user=self.__user, \\\n",
    "                           passwd=self.__passwd)\n",
    "        return db\n",
    "    \n",
    "    def __set_Database(self, name):\n",
    "        self.__database= mysql.connect(host=self.__host,\\\n",
    "                                       user=self.__user,\\\n",
    "                                       passwd=self.__passwd,\\\n",
    "                                       database=name)\n",
    "\n",
    "    def create_Database(self, name):\n",
    "        try:\n",
    "            c = self.get_Cursor(self.__MySQL)\n",
    "            c.execute(f\"CREATE DATABASE {name}\")\n",
    "        except:\n",
    "            pass\n",
    "        self.__set_Database(name)\n",
    "    \n",
    "    def create_Table(self, name, colDict):\n",
    "        c = self.get_Cursor(self.__database)\n",
    "        \n",
    "        col_str = \"\"\n",
    "        for i,k in enumerate(colDict.keys()):\n",
    "            col_str += f\"{k} {colDict[k]}\"\n",
    "            if i != len(colDict)-1:\n",
    "                col_str += \",\"\n",
    "        \n",
    "        execution_str = f\"CREATE TABLE {name} (id INT(11)\\\n",
    "                        NOT NULL AUTO_INCREMENT PRIMARY KEY,\\\n",
    "                        {col_str})\"\n",
    "        try:\n",
    "            c.execute(execution_str)\n",
    "        except:\n",
    "            pass\n",
    "    \n",
    "    def get_Database(self):\n",
    "        c = self.get_Cursor()\n",
    "        return self.__database\n",
    "    \n",
    "    def get_Cursor(self, db):\n",
    "        if db is not None:\n",
    "            return db.cursor()\n",
    "        else:\n",
    "            raise ValueError(\"Database does not exist\")\n",
    "    \n",
    "    def insert_Row(self, table_name, dataDict):\n",
    "        c = self.get_Cursor(self.__database)\n",
    "        \n",
    "        key_str = \"\"\n",
    "        value_type_str = \"\"\n",
    "        values = []\n",
    "        \n",
    "        for i,k in enumerate(dataDict.keys()):\n",
    "            key_str += f\"{k}\"\n",
    "            value_type_str += f\"%s\"         #f\"{dataDict[k][1]}\"\n",
    "            values.append(dataDict[k])\n",
    "            if i != len(dataDict)-1:\n",
    "                key_str += \", \"\n",
    "                value_type_str += \", \"\n",
    "                \n",
    "        query = f\"INSERT INTO {table_name} ({key_str}) VALUES ({value_type_str})\"\n",
    "        c.execute(query, tuple(values))\n",
    "        self.__database.commit()\n",
    "#         print(c.rowcount, \"New Entry\")\n",
    "        \n",
    "    def show_Databases(self):\n",
    "        c = self.get_Cursor(self.__MySQL)\n",
    "        c.execute(\"SHOW DATABASES\")\n",
    "        databases = c.fetchall()\n",
    "        for d in databases:\n",
    "            print(d)\n",
    "            \n",
    "    def show_Tables(self):\n",
    "        c = self.get_Cursor(self.__database)\n",
    "        c.execute(\"SHOW TABLES\")\n",
    "        tables = c.fetchall()\n",
    "        for t in tables:\n",
    "            print(t)\n",
    "            \n",
    "    def show_Table(self, name):\n",
    "        c = self.get_Cursor(self.__database)\n",
    "        c.execute(f\"DESC {name}\")\n",
    "        print(c.fetchall())"
   ]
  },
  {
   "cell_type": "code",
   "execution_count": 2,
   "metadata": {},
   "outputs": [],
   "source": [
    "db = Database('localhost', 'root', 'softwareengineering130')"
   ]
  },
  {
   "cell_type": "code",
   "execution_count": 3,
   "metadata": {},
   "outputs": [],
   "source": [
    "db.create_Database('cs130_test')"
   ]
  },
  {
   "cell_type": "code",
   "execution_count": 4,
   "metadata": {},
   "outputs": [
    {
     "name": "stdout",
     "output_type": "stream",
     "text": [
      "('cs130_test',)\n",
      "('information_schema',)\n",
      "('mysql',)\n",
      "('performance_schema',)\n",
      "('sys',)\n"
     ]
    }
   ],
   "source": [
    "db.show_Databases()"
   ]
  },
  {
   "cell_type": "code",
   "execution_count": 5,
   "metadata": {},
   "outputs": [],
   "source": [
    "col_dict = {'item': 'VARCHAR(255)', 'calories': 'INT'}"
   ]
  },
  {
   "cell_type": "code",
   "execution_count": 6,
   "metadata": {},
   "outputs": [],
   "source": [
    "db.create_Table('diet', col_dict)"
   ]
  },
  {
   "cell_type": "code",
   "execution_count": 7,
   "metadata": {},
   "outputs": [
    {
     "name": "stdout",
     "output_type": "stream",
     "text": [
      "('diet',)\n"
     ]
    }
   ],
   "source": [
    "db.show_Tables()"
   ]
  },
  {
   "cell_type": "code",
   "execution_count": 8,
   "metadata": {},
   "outputs": [
    {
     "name": "stdout",
     "output_type": "stream",
     "text": [
      "[('id', b'int', 'NO', 'PRI', None, 'auto_increment'), ('item', b'varchar(255)', 'YES', '', None, ''), ('calories', b'int', 'YES', '', None, '')]\n"
     ]
    }
   ],
   "source": [
    "db.show_Table('diet')"
   ]
  },
  {
   "cell_type": "code",
   "execution_count": 9,
   "metadata": {},
   "outputs": [],
   "source": [
    "data_dict = {'item': 'apple', 'calories': 100}"
   ]
  },
  {
   "cell_type": "code",
   "execution_count": 10,
   "metadata": {},
   "outputs": [],
   "source": [
    "db.insert_Row('diet', data_dict)"
   ]
  },
  {
   "cell_type": "code",
   "execution_count": 11,
   "metadata": {},
   "outputs": [
    {
     "name": "stdout",
     "output_type": "stream",
     "text": [
      "[('id', b'int', 'NO', 'PRI', None, 'auto_increment'), ('item', b'varchar(255)', 'YES', '', None, ''), ('calories', b'int', 'YES', '', None, '')]\n"
     ]
    }
   ],
   "source": [
    "db.show_Table('diet')"
   ]
  }
 ],
 "metadata": {
  "kernelspec": {
   "display_name": "Python 3",
   "language": "python",
   "name": "python3"
  },
  "language_info": {
   "codemirror_mode": {
    "name": "ipython",
    "version": 3
   },
   "file_extension": ".py",
   "mimetype": "text/x-python",
   "name": "python",
   "nbconvert_exporter": "python",
   "pygments_lexer": "ipython3",
   "version": "3.7.9"
  }
 },
 "nbformat": 4,
 "nbformat_minor": 4
}
